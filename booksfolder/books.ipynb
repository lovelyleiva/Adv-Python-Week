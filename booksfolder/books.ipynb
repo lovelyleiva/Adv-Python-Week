{
 "cells": [
  {
   "cell_type": "code",
   "execution_count": 6,
   "metadata": {},
   "outputs": [
    {
     "name": "stdout",
     "output_type": "stream",
     "text": [
      "<Response [200]>\n",
      "200\n"
     ]
    }
   ],
   "source": [
    "from bs4 import BeautifulSoup\n",
    "import requests\n",
    "\n",
    "def getHTML(url):\n",
    "    response = requests.get(url)\n",
    "    return response.text\n",
    "\n",
    "import requests\n",
    "response = requests.get(\"http://books.toscrape.com/\")\n",
    "\n",
    "html = getHTML(\"http://books.toscrape.com/\")\n",
    "\n",
    "soup = BeautifulSoup(html, 'html.parser')"
   ]
  },
  {
   "cell_type": "code",
   "execution_count": null,
   "metadata": {},
   "outputs": [],
   "source": []
  },
  {
   "cell_type": "code",
   "execution_count": 7,
   "metadata": {},
   "outputs": [],
   "source": [
    "table = soup.find('section')\n"
   ]
  },
  {
   "cell_type": "code",
   "execution_count": 8,
   "metadata": {},
   "outputs": [
    {
     "data": {
      "text/plain": [
       "'£53.74'"
      ]
     },
     "execution_count": 8,
     "metadata": {},
     "output_type": "execute_result"
    }
   ],
   "source": [
    "first_book = table.find_all('li')[1]\n",
    "first_book.find_all('p')[1].string[1:]"
   ]
  },
  {
   "cell_type": "code",
   "execution_count": 9,
   "metadata": {},
   "outputs": [
    {
     "data": {
      "text/plain": [
       "[{'Title': 'A Light in the Attic', 'Price': '£51.77', 'Rating': 'Three'},\n",
       " {'Title': 'Tipping the Velvet', 'Price': '£53.74', 'Rating': 'One'},\n",
       " {'Title': 'Soumission', 'Price': '£50.10', 'Rating': 'One'},\n",
       " {'Title': 'Sharp Objects', 'Price': '£47.82', 'Rating': 'Four'},\n",
       " {'Title': 'Sapiens: A Brief History of Humankind',\n",
       "  'Price': '£54.23',\n",
       "  'Rating': 'Five'},\n",
       " {'Title': 'The Requiem Red', 'Price': '£22.65', 'Rating': 'One'},\n",
       " {'Title': 'The Dirty Little Secrets of Getting Your Dream Job',\n",
       "  'Price': '£33.34',\n",
       "  'Rating': 'Four'},\n",
       " {'Title': 'The Coming Woman: A Novel Based on the Life of the Infamous Feminist, Victoria Woodhull',\n",
       "  'Price': '£17.93',\n",
       "  'Rating': 'Three'},\n",
       " {'Title': 'The Boys in the Boat: Nine Americans and Their Epic Quest for Gold at the 1936 Berlin Olympics',\n",
       "  'Price': '£22.60',\n",
       "  'Rating': 'Four'},\n",
       " {'Title': 'The Black Maria', 'Price': '£52.15', 'Rating': 'One'},\n",
       " {'Title': 'Starving Hearts (Triangular Trade Trilogy, #1)',\n",
       "  'Price': '£13.99',\n",
       "  'Rating': 'Two'},\n",
       " {'Title': \"Shakespeare's Sonnets\", 'Price': '£20.66', 'Rating': 'Four'},\n",
       " {'Title': 'Set Me Free', 'Price': '£17.46', 'Rating': 'Five'},\n",
       " {'Title': \"Scott Pilgrim's Precious Little Life (Scott Pilgrim #1)\",\n",
       "  'Price': '£52.29',\n",
       "  'Rating': 'Five'},\n",
       " {'Title': 'Rip it Up and Start Again', 'Price': '£35.02', 'Rating': 'Five'},\n",
       " {'Title': 'Our Band Could Be Your Life: Scenes from the American Indie Underground, 1981-1991',\n",
       "  'Price': '£57.25',\n",
       "  'Rating': 'Three'},\n",
       " {'Title': 'Olio', 'Price': '£23.88', 'Rating': 'One'},\n",
       " {'Title': 'Mesaerion: The Best Science Fiction Stories 1800-1849',\n",
       "  'Price': '£37.59',\n",
       "  'Rating': 'One'},\n",
       " {'Title': 'Libertarianism for Beginners', 'Price': '£51.33', 'Rating': 'Two'},\n",
       " {'Title': \"It's Only the Himalayas\", 'Price': '£45.17', 'Rating': 'Two'}]"
      ]
     },
     "execution_count": 9,
     "metadata": {},
     "output_type": "execute_result"
    }
   ],
   "source": [
    "books = []\n",
    "\n",
    "for item in table.find_all('li', attrs = {'class':\"col-xs-6 col-sm-4 col-md-3 col-lg-3\"} ):\n",
    "    book = {}\n",
    "    book['Title'] = item.find('h3').find('a').attrs['title']\n",
    "    book['Price'] = item.find_all('p')[1].string[1:]\n",
    "    book['Rating'] = item.find('p').attrs['class'][1]\n",
    "    books.append(book)\n",
    "\n",
    "books"
   ]
  },
  {
   "cell_type": "code",
   "execution_count": 11,
   "metadata": {},
   "outputs": [],
   "source": [
    "import csv\n",
    "columns = ['Title','Price','Rating']\n",
    "filename = \"booknames.csv\"\n",
    "with open(filename, 'w', encoding= 'UTF-8', newline='') as csvfile:\n",
    "    writer = csv.DictWriter(csvfile, fieldnames=columns)\n",
    "    writer.writeheader()\n",
    "    for book in books:\n",
    "        writer.writerow(book)"
   ]
  }
 ],
 "metadata": {
  "kernelspec": {
   "display_name": "Python 3.9.12 ('base')",
   "language": "python",
   "name": "python3"
  },
  "language_info": {
   "codemirror_mode": {
    "name": "ipython",
    "version": 3
   },
   "file_extension": ".py",
   "mimetype": "text/x-python",
   "name": "python",
   "nbconvert_exporter": "python",
   "pygments_lexer": "ipython3",
   "version": "3.9.12"
  },
  "orig_nbformat": 4,
  "vscode": {
   "interpreter": {
    "hash": "677269ff1059978f01a571cf32b059f48b6ac5cf47f6eac19ce06e6b7cc93bae"
   }
  }
 },
 "nbformat": 4,
 "nbformat_minor": 2
}
