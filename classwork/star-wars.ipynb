{
 "cells": [
  {
   "cell_type": "code",
   "execution_count": 1,
   "metadata": {},
   "outputs": [],
   "source": [
    "from dataclasses import dataclass\n",
    "from datetime import date\n",
    "import requests\n",
    "\n",
    "@dataclass\n",
    "class Character:\n",
    "    name: str\n",
    "    height: int\n",
    "    mass: int\n",
    "    hair_color: str\n",
    "    skin_color: str\n",
    "    eye_color: str\n",
    "    birth_year: str \n",
    "    gender: str\n",
    "\n",
    "\n",
    "@dataclass\n",
    "class Film:\n",
    "    title: str\n",
    "    episode_id: int\n",
    "    opening_crawl: str\n",
    "    director: str\n",
    "    producer: str\n",
    "    release_date: date\n",
    "    plot: str\n",
    "    rotten_rating: str\n",
    "    box_office_gross: str\n",
    "    #characters: list\n",
    "\n",
    "def getJson(url):\n",
    "    response = requests.get(url)\n",
    "    return response.json()"
   ]
  },
  {
   "cell_type": "code",
   "execution_count": 2,
   "metadata": {},
   "outputs": [
    {
     "name": "stdout",
     "output_type": "stream",
     "text": [
      "Scraping api: https://swapi.dev/api/people/?page=1\n",
      "Scraping api: https://swapi.dev/api/people/?page=2\n",
      "Scraping api: https://swapi.dev/api/people/?page=3\n",
      "Scraping api: https://swapi.dev/api/people/?page=4\n",
      "Scraping api: https://swapi.dev/api/people/?page=5\n",
      "Scraping api: https://swapi.dev/api/people/?page=6\n",
      "Scraping api: https://swapi.dev/api/people/?page=7\n",
      "Scraping api: https://swapi.dev/api/people/?page=8\n",
      "Scraping api: https://swapi.dev/api/people/?page=9\n",
      "82\n"
     ]
    }
   ],
   "source": [
    "character_info = []\n",
    "\n",
    "for i in range(1,10):\n",
    "    url = f'https://swapi.dev/api/people/?page={i}'\n",
    "    print (f'Scraping api: {url}')\n",
    "    \n",
    "    all_characters = getJson(f'https://swapi.dev/api/people/?page={i}')\n",
    "\n",
    "    for d in all_characters['results']:\n",
    "        name = d['name']\n",
    "        height = d['height']\n",
    "        mass = d['mass']\n",
    "        hair_color = d['hair_color']\n",
    "        skin_color = d['skin_color']\n",
    "        eye_color = d['eye_color']\n",
    "        birth_year = d['birth_year']\n",
    "        gender = d['gender']\n",
    "        clist = Character(name, height, mass, hair_color, skin_color, eye_color, birth_year, gender)\n",
    "        character_info.append(clist)\n",
    "\n",
    "print(len(character_info))"
   ]
  },
  {
   "cell_type": "code",
   "execution_count": 3,
   "metadata": {},
   "outputs": [
    {
     "name": "stdout",
     "output_type": "stream",
     "text": [
      "Two Jedi escape a hostile blockade to find allies and come across a young boy who may bring balance to the Force, but the long dormant Sith resurface to claim their original glory.\n"
     ]
    }
   ],
   "source": [
    "OMDB1 = getJson('http://www.omdbapi.com/?apikey=3163b9a4&t=star') #new hope #ep 4\n",
    "OMDB2 = getJson('http://www.omdbapi.com/?apikey=3163b9a4&t=empire+strikes+back') #ep 5\n",
    "OMDB3 = getJson('http://www.omdbapi.com/?apikey=3163b9a4&t=return+of+the+jedi') #6\n",
    "OMDB4 = getJson('http://www.omdbapi.com/?apikey=3163b9a4&t=phantom+menace') #1\n",
    "OMDB5 = getJson('http://www.omdbapi.com/?apikey=3163b9a4&t=star+wars+episode+ii') #attack of clones #2\n",
    "OMDB6 = getJson('http://www.omdbapi.com/?apikey=3163b9a4&t=star+wars+episode+iii') #revenge of sith #3\n",
    "\n",
    "all_OMDB = []\n",
    "all_OMDB.append(OMDB1)\n",
    "all_OMDB.append(OMDB2)\n",
    "all_OMDB.append(OMDB3)\n",
    "all_OMDB.append(OMDB4)\n",
    "all_OMDB.append(OMDB5)\n",
    "all_OMDB.append(OMDB6)\n",
    "#print(all_OMDB)\n",
    "#print(OMDB4['Ratings'][1]['Vaues'])\n",
    "print(all_OMDB[3]['Plot'])"
   ]
  },
  {
   "cell_type": "code",
   "execution_count": 4,
   "metadata": {},
   "outputs": [
    {
     "name": "stdout",
     "output_type": "stream",
     "text": [
      "6\n"
     ]
    }
   ],
   "source": [
    "all_films = getJson(\"https://swapi.dev/api/films/\")\n",
    "\n",
    "Film_info = []\n",
    "OMDB_info = []\n",
    "count = 0\n",
    "\n",
    "for d in all_films['results']:\n",
    "    title = d['title']\n",
    "    episode_id = d['episode_id']\n",
    "    opening_crawl = d['opening_crawl']\n",
    "    director= d['director']\n",
    "    producer= d['producer']\n",
    "    release_date = d['release_date']\n",
    "    for i in all_OMDB:\n",
    "        plot = i['Plot']\n",
    "        rotten_rating = i['Ratings'][1]['Value']\n",
    "        box_office_gross = i['BoxOffice']\n",
    "        olist = (plot, rotten_rating, box_office_gross)\n",
    "        OMDB_info.append(olist)\n",
    "    flist= Film(title, episode_id, opening_crawl, director, producer, release_date, OMDB_info[count][0],OMDB_info[count][1], OMDB_info[count][2])\n",
    "    count +=1\n",
    "    Film_info.append(flist)\n",
    "print(len(Film_info))"
   ]
  },
  {
   "cell_type": "code",
   "execution_count": 9,
   "metadata": {},
   "outputs": [
    {
     "name": "stdout",
     "output_type": "stream",
     "text": [
      "['1', '2', '3', '4', '5', '10', '13', '14', '16', '18', '20', '21', '22', '25', '27', '28', '29', '30', '31', '45']\n"
     ]
    }
   ],
   "source": [
    "biginfo = []\n",
    "count = 0\n",
    "for d in all_films['results']:\n",
    "    numinfo = []\n",
    "    for i in d['characters']:\n",
    "        numlist = i[29:-1]\n",
    "        numinfo.append(numlist)\n",
    "    blist = list(numinfo)\n",
    "    biginfo.append(blist)\n",
    "    count +=1\n",
    "\n",
    "print(biginfo[2])\n",
    "\n",
    "\n",
    "#print(biginfo.replace()\n",
    "#list of each character # in each movie\n"
   ]
  },
  {
   "cell_type": "code",
   "execution_count": 5,
   "metadata": {},
   "outputs": [
    {
     "name": "stdout",
     "output_type": "stream",
     "text": [
      "['https://swapi.dev/api/people/1/', 'https://swapi.dev/api/people/2/', 'https://swapi.dev/api/people/3/', 'https://swapi.dev/api/people/4/', 'https://swapi.dev/api/people/5/', 'https://swapi.dev/api/people/6/', 'https://swapi.dev/api/people/7/', 'https://swapi.dev/api/people/8/', 'https://swapi.dev/api/people/9/', 'https://swapi.dev/api/people/10/', 'https://swapi.dev/api/people/12/', 'https://swapi.dev/api/people/13/', 'https://swapi.dev/api/people/14/', 'https://swapi.dev/api/people/15/', 'https://swapi.dev/api/people/16/', 'https://swapi.dev/api/people/18/', 'https://swapi.dev/api/people/19/', 'https://swapi.dev/api/people/81/']\n"
     ]
    }
   ],
   "source": [
    "print(all_films['results'][0]['characters'])\n",
    "#print(all_films['results'][0]['characters'][8][29:-1])"
   ]
  },
  {
   "cell_type": "code",
   "execution_count": null,
   "metadata": {},
   "outputs": [],
   "source": [
    "charzz = []\n",
    "for i in range(0,len(all_films)):\n",
    "    c = all_films['results'][i]['characters'][i][29:-1]\n",
    "    charzz.append(c)\n",
    "\n",
    "charzz"
   ]
  },
  {
   "cell_type": "code",
   "execution_count": 6,
   "metadata": {},
   "outputs": [
    {
     "name": "stdout",
     "output_type": "stream",
     "text": [
      "Character(name='Luke Skywalker', height='172', mass='77', hair_color='blond', skin_color='fair', eye_color='blue', birth_year='19BBY', gender='male')\n"
     ]
    }
   ],
   "source": [
    "print(character_info[0])"
   ]
  },
  {
   "cell_type": "code",
   "execution_count": 7,
   "metadata": {},
   "outputs": [
    {
     "name": "stdout",
     "output_type": "stream",
     "text": [
      "[Film(title='A New Hope', episode_id=4, opening_crawl=\"It is a period of civil war.\\r\\nRebel spaceships, striking\\r\\nfrom a hidden base, have won\\r\\ntheir first victory against\\r\\nthe evil Galactic Empire.\\r\\n\\r\\nDuring the battle, Rebel\\r\\nspies managed to steal secret\\r\\nplans to the Empire's\\r\\nultimate weapon, the DEATH\\r\\nSTAR, an armored space\\r\\nstation with enough power\\r\\nto destroy an entire planet.\\r\\n\\r\\nPursued by the Empire's\\r\\nsinister agents, Princess\\r\\nLeia races home aboard her\\r\\nstarship, custodian of the\\r\\nstolen plans that can save her\\r\\npeople and restore\\r\\nfreedom to the galaxy....\", director='George Lucas', producer='Gary Kurtz, Rick McCallum', release_date='1977-05-25', plot=\"Luke Skywalker joins forces with a Jedi Knight, a cocky pilot, a Wookiee and two droids to save the galaxy from the Empire's world-destroying battle station, while also attempting to rescue Princess Leia from the mysterious Darth ...\", rotten_rating='93%', box_office_gross='$460,998,507'), Film(title='The Empire Strikes Back', episode_id=5, opening_crawl='It is a dark time for the\\r\\nRebellion. Although the Death\\r\\nStar has been destroyed,\\r\\nImperial troops have driven the\\r\\nRebel forces from their hidden\\r\\nbase and pursued them across\\r\\nthe galaxy.\\r\\n\\r\\nEvading the dreaded Imperial\\r\\nStarfleet, a group of freedom\\r\\nfighters led by Luke Skywalker\\r\\nhas established a new secret\\r\\nbase on the remote ice world\\r\\nof Hoth.\\r\\n\\r\\nThe evil lord Darth Vader,\\r\\nobsessed with finding young\\r\\nSkywalker, has dispatched\\r\\nthousands of remote probes into\\r\\nthe far reaches of space....', director='Irvin Kershner', producer='Gary Kurtz, Rick McCallum', release_date='1980-05-17', plot='After the Rebels are brutally overpowered by the Empire on the ice planet Hoth, Luke Skywalker begins Jedi training with Yoda, while his friends are pursued across the galaxy by Darth Vader and bounty hunter Boba Fett.', rotten_rating='94%', box_office_gross='$292,753,960'), Film(title='Return of the Jedi', episode_id=6, opening_crawl='Luke Skywalker has returned to\\r\\nhis home planet of Tatooine in\\r\\nan attempt to rescue his\\r\\nfriend Han Solo from the\\r\\nclutches of the vile gangster\\r\\nJabba the Hutt.\\r\\n\\r\\nLittle does Luke know that the\\r\\nGALACTIC EMPIRE has secretly\\r\\nbegun construction on a new\\r\\narmored space station even\\r\\nmore powerful than the first\\r\\ndreaded Death Star.\\r\\n\\r\\nWhen completed, this ultimate\\r\\nweapon will spell certain doom\\r\\nfor the small band of rebels\\r\\nstruggling to restore freedom\\r\\nto the galaxy...', director='Richard Marquand', producer='Howard G. Kazanjian, George Lucas, Rick McCallum', release_date='1983-05-25', plot=\"After a daring mission to rescue Han Solo from Jabba the Hutt, the Rebels dispatch to Endor to destroy the second Death Star. Meanwhile, Luke struggles to help Darth Vader back from the dark side without falling into the Emperor's...\", rotten_rating='83%', box_office_gross='$309,306,177'), Film(title='The Phantom Menace', episode_id=1, opening_crawl='Turmoil has engulfed the\\r\\nGalactic Republic. The taxation\\r\\nof trade routes to outlying star\\r\\nsystems is in dispute.\\r\\n\\r\\nHoping to resolve the matter\\r\\nwith a blockade of deadly\\r\\nbattleships, the greedy Trade\\r\\nFederation has stopped all\\r\\nshipping to the small planet\\r\\nof Naboo.\\r\\n\\r\\nWhile the Congress of the\\r\\nRepublic endlessly debates\\r\\nthis alarming chain of events,\\r\\nthe Supreme Chancellor has\\r\\nsecretly dispatched two Jedi\\r\\nKnights, the guardians of\\r\\npeace and justice in the\\r\\ngalaxy, to settle the conflict....', director='George Lucas', producer='Rick McCallum', release_date='1999-05-19', plot='Two Jedi escape a hostile blockade to find allies and come across a young boy who may bring balance to the Force, but the long dormant Sith resurface to claim their original glory.', rotten_rating='51%', box_office_gross='$474,544,677'), Film(title='Attack of the Clones', episode_id=2, opening_crawl='There is unrest in the Galactic\\r\\nSenate. Several thousand solar\\r\\nsystems have declared their\\r\\nintentions to leave the Republic.\\r\\n\\r\\nThis separatist movement,\\r\\nunder the leadership of the\\r\\nmysterious Count Dooku, has\\r\\nmade it difficult for the limited\\r\\nnumber of Jedi Knights to maintain \\r\\npeace and order in the galaxy.\\r\\n\\r\\nSenator Amidala, the former\\r\\nQueen of Naboo, is returning\\r\\nto the Galactic Senate to vote\\r\\non the critical issue of creating\\r\\nan ARMY OF THE REPUBLIC\\r\\nto assist the overwhelmed\\r\\nJedi....', director='George Lucas', producer='Rick McCallum', release_date='2002-05-16', plot='Ten years after initially meeting, Anakin Skywalker shares a forbidden romance with Padmé Amidala, while Obi-Wan Kenobi investigates an assassination attempt on the senator and discovers a secret clone army crafted for the Jedi.', rotten_rating='66%', box_office_gross='$310,676,740'), Film(title='Revenge of the Sith', episode_id=3, opening_crawl='War! The Republic is crumbling\\r\\nunder attacks by the ruthless\\r\\nSith Lord, Count Dooku.\\r\\nThere are heroes on both sides.\\r\\nEvil is everywhere.\\r\\n\\r\\nIn a stunning move, the\\r\\nfiendish droid leader, General\\r\\nGrievous, has swept into the\\r\\nRepublic capital and kidnapped\\r\\nChancellor Palpatine, leader of\\r\\nthe Galactic Senate.\\r\\n\\r\\nAs the Separatist Droid Army\\r\\nattempts to flee the besieged\\r\\ncapital with their valuable\\r\\nhostage, two Jedi Knights lead a\\r\\ndesperate mission to rescue the\\r\\ncaptive Chancellor....', director='George Lucas', producer='Rick McCallum', release_date='2005-05-19', plot='Three years into the Clone Wars, the Jedi rescue Palpatine from Count Dooku. As Obi-Wan pursues a new threat, Anakin acts as a double agent between the Jedi Council and Palpatine and is lured into a sinister plan to rule the galaxy.', rotten_rating='79%', box_office_gross='$380,270,577')]\n"
     ]
    }
   ],
   "source": [
    "print(Film_info)"
   ]
  },
  {
   "cell_type": "markdown",
   "metadata": {},
   "source": [
    "how to get list of characters in the movie."
   ]
  }
 ],
 "metadata": {
  "kernelspec": {
   "display_name": "Python 3.9.12 ('base')",
   "language": "python",
   "name": "python3"
  },
  "language_info": {
   "name": "python",
   "version": "3.9.12"
  },
  "orig_nbformat": 4,
  "vscode": {
   "interpreter": {
    "hash": "677269ff1059978f01a571cf32b059f48b6ac5cf47f6eac19ce06e6b7cc93bae"
   }
  }
 },
 "nbformat": 4,
 "nbformat_minor": 2
}
