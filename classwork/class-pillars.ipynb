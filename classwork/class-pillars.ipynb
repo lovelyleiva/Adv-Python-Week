{
 "cells": [
  {
   "cell_type": "code",
   "execution_count": 4,
   "metadata": {},
   "outputs": [],
   "source": [
    "class Person:\n",
    "    \"\"\"Person class\"\"\"\n",
    "    def __init__(self, name):\n",
    "        print(f'Initializing name: {name}')\n",
    "        self.__name = name\n",
    "\n",
    "    @property\n",
    "    def name(self):\n",
    "        return self.__name\n",
    "\n",
    "    @name.setter\n",
    "    def name(self, new_name):\n",
    "        self.__name = new_name\n",
    "\n",
    "    def move(self):\n",
    "        print('Moving')"
   ]
  },
  {
   "cell_type": "code",
   "execution_count": 5,
   "metadata": {},
   "outputs": [],
   "source": [
    "class Employee(Person):\n",
    "    \"\"\"Employee class, inheriting from Person\"\"\"\n",
    "    def __init__(self, name, id):\n",
    "        super().__init__(name)\n",
    "        self.__empid = id\n",
    "\n",
    "    @property\n",
    "    def EmployeeID(self):\n",
    "        return self.__empid\n",
    "    \n",
    "    @EmployeeID.setter\n",
    "    def name(self, new_id):\n",
    "        self.__empid = new_id\n",
    "\n",
    "    @property\n",
    "    def Manager(self):\n",
    "        return self.__manager\n",
    "\n",
    "    @Manager.setter\n",
    "    def Manager(self,mgr):\n",
    "        self.__manager = mgr"
   ]
  },
  {
   "cell_type": "code",
   "execution_count": 6,
   "metadata": {},
   "outputs": [
    {
     "name": "stdout",
     "output_type": "stream",
     "text": [
      "Initializing name: Newb\n",
      "Moving\n",
      "Employee Name: 1, ID: 1\n",
      "Initializing name: Sam\n",
      "e1 mgr = 2\n",
      "e1 Manager = 2,2\n"
     ]
    }
   ],
   "source": [
    "e1 = Employee('Newb', 1)\n",
    "\n",
    "e1.move()\n",
    "\n",
    "print(f'Employee Name: {e1.name}, ID: {e1.EmployeeID}')\n",
    "\n",
    "\n",
    "e1.Manager = Employee('Sam',2)\n",
    "\n",
    "print(f'e1 mgr = {e1.Manager.name}')\n",
    "\n",
    "e2 = e1.Manager\n",
    "\n",
    "print(f'e1 Manager = {e2.EmployeeID},{e2.name}')"
   ]
  }
 ],
 "metadata": {
  "kernelspec": {
   "display_name": "Python 3.9.12 ('base')",
   "language": "python",
   "name": "python3"
  },
  "language_info": {
   "codemirror_mode": {
    "name": "ipython",
    "version": 3
   },
   "file_extension": ".py",
   "mimetype": "text/x-python",
   "name": "python",
   "nbconvert_exporter": "python",
   "pygments_lexer": "ipython3",
   "version": "3.9.12"
  },
  "orig_nbformat": 4,
  "vscode": {
   "interpreter": {
    "hash": "677269ff1059978f01a571cf32b059f48b6ac5cf47f6eac19ce06e6b7cc93bae"
   }
  }
 },
 "nbformat": 4,
 "nbformat_minor": 2
}
