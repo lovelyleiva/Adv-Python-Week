{
 "cells": [
  {
   "cell_type": "code",
   "execution_count": 2,
   "metadata": {},
   "outputs": [],
   "source": [
    "from dataclasses import dataclass\n",
    "from datetime import date\n",
    "\n",
    "#Movie\n",
    "#ID: int\n",
    "#title: varchar\n",
    "# year: int\n",
    "#rating: varchar\n",
    "#director varchar\n",
    "@dataclass\n",
    "class Movie:\n",
    "    id: int\n",
    "    title: str\n",
    "    year: int\n",
    "    rating: str\n",
    "    director: str\n",
    "\n",
    "#Actor\n",
    "#id: int\n",
    "#first name varchar\n",
    "#last name varchar\n",
    "#gender varchar\n",
    "#birthday date\n",
    "@dataclass\n",
    "class Actor:\n",
    "    id: int\n",
    "    first_name: str\n",
    "    last_name: str\n",
    "    gender: str\n",
    "    birth_date: date\n",
    "\n",
    "    def getFullName(self):\n",
    "        return self.first_name + ' ' + self.last_name\n",
    "\n",
    "#Credit\n",
    "#id int\n",
    "#movieid int\n",
    "#actorid int\n",
    "#role varchar\n",
    "@dataclass\n",
    "class Credit:\n",
    "    id: int\n",
    "    movie: Movie\n",
    "    actor: Actor\n",
    "    role: str"
   ]
  },
  {
   "cell_type": "code",
   "execution_count": 10,
   "metadata": {},
   "outputs": [],
   "source": [
    "movies =  [\n",
    "    Movie(1, 'Revenge of the Nerds', 1984, 'R', 'Robert Kanew'),\n",
    "    Movie(2, 'Avengers Infinity War', 2018, 'PG-13','Anthony Russo, John, Russo')]\n",
    "\n",
    "actors = [\n",
    "    Actor(1, 'Robert', 'Downey JR.','M', '1965-4-4'),\n",
    "    Actor(2, 'Chris','Hemsworth', 'M', '1983-09-11'),\n",
    "    Actor(3, 'Scarlett', 'Johanssen', 'F','2021-1-1')]\n",
    "\n",
    "credits = []\n",
    "\n",
    "c1 = Credit(1,movies[1], actors[0], 'Tony Stark -Iron Man')\n",
    "c2 = Credit(2, movies[1], actors[1],'Thor')\n",
    "c3 = Credit(3, movies[1], actors[2], 'Black Widow')\n",
    "\n",
    "credits.append(c1)\n",
    "credits.append(c2)\n",
    "credits.append(c3)\n",
    "\n"
   ]
  },
  {
   "cell_type": "code",
   "execution_count": 11,
   "metadata": {},
   "outputs": [
    {
     "name": "stdout",
     "output_type": "stream",
     "text": [
      "Avengers Infinity War:Robert Downey JR. - Tony Stark -Iron Man\n",
      "Avengers Infinity War:Chris Hemsworth - Thor\n",
      "Avengers Infinity War:Scarlett Johanssen - Black Widow\n"
     ]
    }
   ],
   "source": [
    "for credit in credits:\n",
    "    print(f'{credit.movie.title}:{credit.actor.getFullName()} - {credit.role}')"
   ]
  }
 ],
 "metadata": {
  "kernelspec": {
   "display_name": "Python 3.9.12 ('base')",
   "language": "python",
   "name": "python3"
  },
  "language_info": {
   "codemirror_mode": {
    "name": "ipython",
    "version": 3
   },
   "file_extension": ".py",
   "mimetype": "text/x-python",
   "name": "python",
   "nbconvert_exporter": "python",
   "pygments_lexer": "ipython3",
   "version": "3.9.12"
  },
  "orig_nbformat": 4,
  "vscode": {
   "interpreter": {
    "hash": "677269ff1059978f01a571cf32b059f48b6ac5cf47f6eac19ce06e6b7cc93bae"
   }
  }
 },
 "nbformat": 4,
 "nbformat_minor": 2
}
